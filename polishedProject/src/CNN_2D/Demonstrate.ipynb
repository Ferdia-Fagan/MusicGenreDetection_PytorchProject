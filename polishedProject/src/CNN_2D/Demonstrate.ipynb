{
 "cells": [
  {
   "cell_type": "code",
   "execution_count": 1,
   "metadata": {
    "collapsed": true,
    "pycharm": {
     "name": "#%%\n"
    }
   },
   "outputs": [],
   "source": [
    "import os\n",
    "\n",
    "import src.utils.Main\n",
    "from src.CNN_2D import MelSpectogram_CNN, MelSpectogram_CNN_WithGAP, MelSpectogram_CNN_CurringOverfitting\n",
    "from src.TrainingAndTesting import Demonstrate, MusicDataLoader, TrainAndTest, Utils\n",
    "\n",
    "import pandas as pd\n",
    "\n",
    "import json"
   ]
  },
  {
   "cell_type": "code",
   "execution_count": 2,
   "outputs": [],
   "source": [
    "root_directory = f\"{os.getcwd()}\""
   ],
   "metadata": {
    "collapsed": false,
    "pycharm": {
     "name": "#%%\n"
    }
   }
  },
  {
   "cell_type": "markdown",
   "source": [
    "Please use tensorboard as described\n",
    "in read me in order to view the models.\n",
    "\n",
    "I lost all the diagrams I made in the delete and its not worth time."
   ],
   "metadata": {
    "collapsed": false,
    "pycharm": {
     "name": "#%% md\n"
    }
   }
  },
  {
   "cell_type": "markdown",
   "source": [
    "Took input as raw mel spectogram.\n",
    "\n",
    "<h1>Starting</h1>"
   ],
   "metadata": {
    "collapsed": false,
    "pycharm": {
     "name": "#%% md\n"
    }
   }
  },
  {
   "cell_type": "code",
   "execution_count": null,
   "outputs": [
    {
     "name": "stdout",
     "output_type": "stream",
     "text": [
      "testing model: CNN_2D_512\n"
     ]
    }
   ],
   "source": [
    "modelName = \"CNN_2D_512\"\n",
    "\n",
    "Demonstrate.demonstrateModel(modelName,\n",
    "                             MelSpectogram_CNN,\n",
    "                             root_directory)"
   ],
   "metadata": {
    "collapsed": false,
    "pycharm": {
     "name": "#%%\n",
     "is_executing": true
    }
   }
  },
  {
   "cell_type": "markdown",
   "source": [
    "Then I tried narrower convolutions,\n",
    "due to difference in time and frequency\n",
    "meaning change along axis's"
   ],
   "metadata": {
    "collapsed": false,
    "pycharm": {
     "name": "#%% md\n"
    }
   }
  },
  {
   "cell_type": "code",
   "execution_count": null,
   "outputs": [],
   "source": [
    "modelName = \"CNN_2D_512_SmallerConvolutions\"\n",
    "\n",
    "Demonstrate.demonstrateModel(modelName,\n",
    "                             MelSpectogram_CNN,\n",
    "                             root_directory)"
   ],
   "metadata": {
    "collapsed": false,
    "pycharm": {
     "name": "#%%\n",
     "is_executing": true
    }
   }
  },
  {
   "cell_type": "markdown",
   "source": [
    "This got basically no learning (accuracy was close to 10%)\n",
    " But, I added GAP to replace FC layers"
   ],
   "metadata": {
    "collapsed": false,
    "pycharm": {
     "name": "#%% md\n"
    }
   }
  },
  {
   "cell_type": "code",
   "execution_count": null,
   "outputs": [],
   "source": [
    "modelName = \"CNN_2D_512_WithGAP\"\n",
    "\n",
    "Demonstrate.demonstrateModel(modelName,\n",
    "                             MelSpectogram_CNN_WithGAP,\n",
    "                             root_directory)"
   ],
   "metadata": {
    "collapsed": false,
    "pycharm": {
     "name": "#%%\n",
     "is_executing": true
    }
   }
  },
  {
   "cell_type": "markdown",
   "source": [
    "I was not sure exactly why this was that performance increased so much.\n",
    "\n",
    "I then finished with this model:\n",
    "\n",
    "<h3>2D CNN</h3>"
   ],
   "metadata": {
    "collapsed": false,
    "pycharm": {
     "name": "#%% md\n"
    }
   }
  },
  {
   "cell_type": "code",
   "execution_count": null,
   "outputs": [],
   "source": [
    "modelName = \"CNN_2D_512_CurringOverfitting\"\n",
    "\n",
    "Demonstrate.demonstrateModel(modelName,\n",
    "                             MelSpectogram_CNN_CurringOverfitting,\n",
    "                             root_directory)\n"
   ],
   "metadata": {
    "collapsed": false,
    "pycharm": {
     "name": "#%%\n",
     "is_executing": true
    }
   }
  }
 ],
 "metadata": {
  "kernelspec": {
   "display_name": "Python 3",
   "language": "python",
   "name": "python3"
  },
  "language_info": {
   "codemirror_mode": {
    "name": "ipython",
    "version": 2
   },
   "file_extension": ".py",
   "mimetype": "text/x-python",
   "name": "python",
   "nbconvert_exporter": "python",
   "pygments_lexer": "ipython2",
   "version": "2.7.6"
  }
 },
 "nbformat": 4,
 "nbformat_minor": 0
}